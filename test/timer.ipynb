{
 "cells": [
  {
   "cell_type": "code",
   "execution_count": 36,
   "id": "f3f98a7c-35ca-480d-a607-05dfb28ab017",
   "metadata": {},
   "outputs": [],
   "source": [
    "import yaml\n",
    "import os \n",
    "\n",
    "def read_config(config_file):\n",
    "    with open(config_file, 'r') as f:\n",
    "        return yaml.safe_load(f)\n",
    "\n",
    "config = read_config(\"test.yml\")"
   ]
  },
  {
   "cell_type": "code",
   "execution_count": 37,
   "id": "257b9afc-c4a9-4525-925d-d76beda49690",
   "metadata": {},
   "outputs": [
    {
     "name": "stdout",
     "output_type": "stream",
     "text": [
      "{'systems': {'systemless': {'HealthApp_2k.log': '/Users/mac/repo/project/ITSC/MoveLook/getData/log/systemLess/less-HealthApp_2k.log'}}, 'interval': 5, 'ESHost': {'scheme': 'http', 'host': 'localhost', 'port': 9200}, 'searchPattern': {'systems': {'systemless': {'HealthApp_2k.log': ['/Users/mac/repo/project/ITSC/MoveLook/getData/log/systemLess/less-HealthApp_2k.log', '*']}}}}\n"
     ]
    }
   ],
   "source": [
    "print(config)"
   ]
  },
  {
   "cell_type": "code",
   "execution_count": 41,
   "id": "642ba323-69a7-4dcd-9101-8573b739e1b5",
   "metadata": {},
   "outputs": [
    {
     "name": "stdout",
     "output_type": "stream",
     "text": [
      "*\n"
     ]
    }
   ],
   "source": [
    "s = config['searchPattern']['systems']\n",
    "for i in s:\n",
    "    for j in s[i]:\n",
    "        print(s[i][j][1])\n",
    "        "
   ]
  },
  {
   "cell_type": "code",
   "execution_count": null,
   "id": "271c1c24-6b75-40fd-ac09-d1c7d2bf09be",
   "metadata": {},
   "outputs": [],
   "source": []
  },
  {
   "cell_type": "code",
   "execution_count": null,
   "id": "9cf69f1c-ecc8-4b26-b94c-915cbf183570",
   "metadata": {},
   "outputs": [],
   "source": []
  },
  {
   "cell_type": "code",
   "execution_count": null,
   "id": "acfd7af9-6ad2-4fb5-96d8-425c55bb11f9",
   "metadata": {},
   "outputs": [],
   "source": []
  },
  {
   "cell_type": "code",
   "execution_count": null,
   "id": "d5f5ec5b-447b-4295-bb11-19a71371b383",
   "metadata": {},
   "outputs": [],
   "source": []
  },
  {
   "cell_type": "code",
   "execution_count": null,
   "id": "e0e59fc7-ef07-4ff5-bbdc-4bc06fd1de84",
   "metadata": {},
   "outputs": [],
   "source": []
  },
  {
   "cell_type": "code",
   "execution_count": null,
   "id": "e8eaf68c-453f-4fa8-8020-24c1641d204e",
   "metadata": {},
   "outputs": [],
   "source": []
  },
  {
   "cell_type": "code",
   "execution_count": null,
   "id": "df649523-e936-4d5b-8867-2f24de8af7d3",
   "metadata": {},
   "outputs": [],
   "source": []
  }
 ],
 "metadata": {
  "kernelspec": {
   "display_name": "Python 3 (ipykernel)",
   "language": "python",
   "name": "python3"
  },
  "language_info": {
   "codemirror_mode": {
    "name": "ipython",
    "version": 3
   },
   "file_extension": ".py",
   "mimetype": "text/x-python",
   "name": "python",
   "nbconvert_exporter": "python",
   "pygments_lexer": "ipython3",
   "version": "3.12.2"
  }
 },
 "nbformat": 4,
 "nbformat_minor": 5
}
