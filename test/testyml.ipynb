{
 "cells": [
  {
   "cell_type": "code",
   "execution_count": 9,
   "id": "368a038f-dd37-4399-acb6-98b94c86d280",
   "metadata": {},
   "outputs": [
    {
     "name": "stdout",
     "output_type": "stream",
     "text": [
      "{'system1': {'HealthApp_2k.log': '/Users/mac/repo/project/ITSC/MoveLook/getData/log/HealthApp_2k.log', 'Hadoop_2k.log': '/Users/mac/repo/project/ITSC/MoveLook/getData/log/Hadoop_2k.log', 'BGL_2k.log': '/Users/mac/repo/project/ITSC/MoveLook/getData/log/BGL_2k.log', 'Thunderbird_2k.log': '/Users/mac/repo/project/ITSC/MoveLook/getData/log/Thunderbird_2k.log', 'Zookeeper_2k.log': '/Users/mac/repo/project/ITSC/MoveLook/getData/log/Zookeeper_2k.log', 'Windows_2k.log': '/Users/mac/repo/project/ITSC/MoveLook/getData/log/Windows_2k.log', 'HPC_2k.log': '/Users/mac/repo/project/ITSC/MoveLook/getData/log/HPC_2k.log', 'OpenSSH_2k.log': '/Users/mac/repo/project/ITSC/MoveLook/getData/log/OpenSSH_2k.log', 'HDFS_2k.log': '/Users/mac/repo/project/ITSC/MoveLook/getData/log/HDFS_2k.log', 'Apache_2k.log': '/Users/mac/repo/project/ITSC/MoveLook/getData/log/Apache_2k.log', 'Mac_2k.log': '/Users/mac/repo/project/ITSC/MoveLook/getData/log/Mac_2k.log', 'Spark_2k.log': '/Users/mac/repo/project/ITSC/MoveLook/getData/log/Spark_2k.log', 'Android_2k.log': '/Users/mac/repo/project/ITSC/MoveLook/getData/log/Android_2k.log', 'Proxifier_2k.log': '/Users/mac/repo/project/ITSC/MoveLook/getData/log/Proxifier_2k.log', 'Linux_2k.log': '/Users/mac/repo/project/ITSC/MoveLook/getData/log/Linux_2k.log', 'OpenStack_2k.log': '/Users/mac/repo/project/ITSC/MoveLook/getData/log/OpenStack_2k.log'}}\n"
     ]
    }
   ],
   "source": [
    "# read config.yml file\n",
    "import yaml\n",
    "\n",
    "with open(\"config.yml\", 'r') as ymlfile:\n",
    "    config = yaml.safe_load(ymlfile)\n",
    "    print(config['systems'])\n",
    "\n",
    "\n"
   ]
  },
  {
   "cell_type": "code",
   "execution_count": 7,
   "id": "56eae670-3b8f-4003-8dea-624b822e9a11",
   "metadata": {},
   "outputs": [
    {
     "data": {
      "text/plain": [
       "5"
      ]
     },
     "execution_count": 7,
     "metadata": {},
     "output_type": "execute_result"
    }
   ],
   "source": [
    "config['frequency']\n"
   ]
  },
  {
   "cell_type": "code",
   "execution_count": 10,
   "id": "63ec09d4-81c1-4cc9-94d3-4bfd48696f0c",
   "metadata": {},
   "outputs": [
    {
     "data": {
      "text/plain": [
       "{'scheme': 'http', 'host': 'localhost', 'port': 9200}"
      ]
     },
     "execution_count": 10,
     "metadata": {},
     "output_type": "execute_result"
    }
   ],
   "source": [
    "config['ESHost']"
   ]
  },
  {
   "cell_type": "code",
   "execution_count": null,
   "id": "188bb53f-07ef-4f94-9c7a-c3358c0bf2d4",
   "metadata": {},
   "outputs": [],
   "source": []
  },
  {
   "cell_type": "code",
   "execution_count": null,
   "id": "ebfdf9c5-1154-4755-b510-a4b8e2383322",
   "metadata": {},
   "outputs": [],
   "source": []
  }
 ],
 "metadata": {
  "kernelspec": {
   "display_name": "Python 3 (ipykernel)",
   "language": "python",
   "name": "python3"
  },
  "language_info": {
   "codemirror_mode": {
    "name": "ipython",
    "version": 3
   },
   "file_extension": ".py",
   "mimetype": "text/x-python",
   "name": "python",
   "nbconvert_exporter": "python",
   "pygments_lexer": "ipython3",
   "version": "3.12.2"
  }
 },
 "nbformat": 4,
 "nbformat_minor": 5
}
